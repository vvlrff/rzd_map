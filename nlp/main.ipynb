{
 "cells": [
  {
   "cell_type": "code",
   "execution_count": 1,
   "metadata": {},
   "outputs": [],
   "source": [
    "import pandas as pd"
   ]
  },
  {
   "cell_type": "code",
   "execution_count": 9,
   "metadata": {},
   "outputs": [],
   "source": [
    "PEREGON_HACKATON = pd.read_excel('PEREGON_HACKATON.xlsx')"
   ]
  },
  {
   "cell_type": "code",
   "execution_count": 10,
   "metadata": {},
   "outputs": [
    {
     "data": {
      "text/html": [
       "<div>\n",
       "<style scoped>\n",
       "    .dataframe tbody tr th:only-of-type {\n",
       "        vertical-align: middle;\n",
       "    }\n",
       "\n",
       "    .dataframe tbody tr th {\n",
       "        vertical-align: top;\n",
       "    }\n",
       "\n",
       "    .dataframe thead th {\n",
       "        text-align: right;\n",
       "    }\n",
       "</style>\n",
       "<table border=\"1\" class=\"dataframe\">\n",
       "  <thead>\n",
       "    <tr style=\"text-align: right;\">\n",
       "      <th></th>\n",
       "      <th>START_CODE</th>\n",
       "      <th>END_CODE</th>\n",
       "      <th>LEN</th>\n",
       "    </tr>\n",
       "  </thead>\n",
       "  <tbody>\n",
       "    <tr>\n",
       "      <th>0</th>\n",
       "      <td>2</td>\n",
       "      <td>805</td>\n",
       "      <td>32</td>\n",
       "    </tr>\n",
       "    <tr>\n",
       "      <th>1</th>\n",
       "      <td>6</td>\n",
       "      <td>2</td>\n",
       "      <td>27</td>\n",
       "    </tr>\n",
       "    <tr>\n",
       "      <th>2</th>\n",
       "      <td>8</td>\n",
       "      <td>6</td>\n",
       "      <td>27</td>\n",
       "    </tr>\n",
       "    <tr>\n",
       "      <th>3</th>\n",
       "      <td>12</td>\n",
       "      <td>8</td>\n",
       "      <td>29</td>\n",
       "    </tr>\n",
       "    <tr>\n",
       "      <th>4</th>\n",
       "      <td>15</td>\n",
       "      <td>12</td>\n",
       "      <td>19</td>\n",
       "    </tr>\n",
       "  </tbody>\n",
       "</table>\n",
       "</div>"
      ],
      "text/plain": [
       "   START_CODE  END_CODE  LEN\n",
       "0           2       805   32\n",
       "1           6         2   27\n",
       "2           8         6   27\n",
       "3          12         8   29\n",
       "4          15        12   19"
      ]
     },
     "execution_count": 10,
     "metadata": {},
     "output_type": "execute_result"
    }
   ],
   "source": [
    "PEREGON_HACKATON.head()"
   ]
  },
  {
   "cell_type": "code",
   "execution_count": 11,
   "metadata": {},
   "outputs": [],
   "source": [
    "STATION_COORDS_HACKATON = pd.read_excel('STATION_COORDS_HACKATON.xlsx')"
   ]
  },
  {
   "cell_type": "code",
   "execution_count": 18,
   "metadata": {},
   "outputs": [
    {
     "data": {
      "text/plain": [
       "(15173, 3)"
      ]
     },
     "execution_count": 18,
     "metadata": {},
     "output_type": "execute_result"
    }
   ],
   "source": [
    "STATION_COORDS_HACKATON.shape"
   ]
  },
  {
   "cell_type": "code",
   "execution_count": 17,
   "metadata": {},
   "outputs": [
    {
     "data": {
      "text/html": [
       "<div>\n",
       "<style scoped>\n",
       "    .dataframe tbody tr th:only-of-type {\n",
       "        vertical-align: middle;\n",
       "    }\n",
       "\n",
       "    .dataframe tbody tr th {\n",
       "        vertical-align: top;\n",
       "    }\n",
       "\n",
       "    .dataframe thead th {\n",
       "        text-align: right;\n",
       "    }\n",
       "</style>\n",
       "<table border=\"1\" class=\"dataframe\">\n",
       "  <thead>\n",
       "    <tr style=\"text-align: right;\">\n",
       "      <th></th>\n",
       "      <th>ST_ID</th>\n",
       "      <th>LATITUDE</th>\n",
       "      <th>LONGITUDE</th>\n",
       "    </tr>\n",
       "  </thead>\n",
       "  <tbody>\n",
       "    <tr>\n",
       "      <th>15168</th>\n",
       "      <td>25876</td>\n",
       "      <td>56.5624</td>\n",
       "      <td>57.7346</td>\n",
       "    </tr>\n",
       "    <tr>\n",
       "      <th>15169</th>\n",
       "      <td>25877</td>\n",
       "      <td>56.6841</td>\n",
       "      <td>57.9468</td>\n",
       "    </tr>\n",
       "    <tr>\n",
       "      <th>15170</th>\n",
       "      <td>25878</td>\n",
       "      <td>56.8725</td>\n",
       "      <td>59.2641</td>\n",
       "    </tr>\n",
       "    <tr>\n",
       "      <th>15171</th>\n",
       "      <td>25879</td>\n",
       "      <td>56.4072</td>\n",
       "      <td>52.9355</td>\n",
       "    </tr>\n",
       "    <tr>\n",
       "      <th>15172</th>\n",
       "      <td>25880</td>\n",
       "      <td>56.2014</td>\n",
       "      <td>52.6143</td>\n",
       "    </tr>\n",
       "  </tbody>\n",
       "</table>\n",
       "</div>"
      ],
      "text/plain": [
       "       ST_ID  LATITUDE  LONGITUDE\n",
       "15168  25876   56.5624    57.7346\n",
       "15169  25877   56.6841    57.9468\n",
       "15170  25878   56.8725    59.2641\n",
       "15171  25879   56.4072    52.9355\n",
       "15172  25880   56.2014    52.6143"
      ]
     },
     "execution_count": 17,
     "metadata": {},
     "output_type": "execute_result"
    }
   ],
   "source": [
    "STATION_COORDS_HACKATON.tail()"
   ]
  },
  {
   "cell_type": "code",
   "execution_count": 6,
   "metadata": {},
   "outputs": [],
   "source": [
    "big_data = pd.read_excel('disl_hackaton.xlsx')"
   ]
  },
  {
   "cell_type": "code",
   "execution_count": 24,
   "metadata": {},
   "outputs": [
    {
     "data": {
      "text/html": [
       "<div>\n",
       "<style scoped>\n",
       "    .dataframe tbody tr th:only-of-type {\n",
       "        vertical-align: middle;\n",
       "    }\n",
       "\n",
       "    .dataframe tbody tr th {\n",
       "        vertical-align: top;\n",
       "    }\n",
       "\n",
       "    .dataframe thead th {\n",
       "        text-align: right;\n",
       "    }\n",
       "</style>\n",
       "<table border=\"1\" class=\"dataframe\">\n",
       "  <thead>\n",
       "    <tr style=\"text-align: right;\">\n",
       "      <th></th>\n",
       "      <th>WAGNUM</th>\n",
       "      <th>OPERDATE</th>\n",
       "      <th>ST_ID_DISL</th>\n",
       "      <th>ST_ID_DEST</th>\n",
       "      <th>TRAIN_INDEX</th>\n",
       "    </tr>\n",
       "  </thead>\n",
       "  <tbody>\n",
       "    <tr>\n",
       "      <th>993940</th>\n",
       "      <td>6701</td>\n",
       "      <td>2023-07-16 07:32:00</td>\n",
       "      <td>18862</td>\n",
       "      <td>2331</td>\n",
       "      <td>16069-697-20792</td>\n",
       "    </tr>\n",
       "    <tr>\n",
       "      <th>993977</th>\n",
       "      <td>6701</td>\n",
       "      <td>2023-07-15 21:57:00</td>\n",
       "      <td>19396</td>\n",
       "      <td>2331</td>\n",
       "      <td>16069-697-20792</td>\n",
       "    </tr>\n",
       "    <tr>\n",
       "      <th>993999</th>\n",
       "      <td>6701</td>\n",
       "      <td>2023-07-15 21:12:00</td>\n",
       "      <td>19400</td>\n",
       "      <td>2331</td>\n",
       "      <td>16069-697-20792</td>\n",
       "    </tr>\n",
       "    <tr>\n",
       "      <th>994008</th>\n",
       "      <td>6701</td>\n",
       "      <td>2023-07-15 19:12:00</td>\n",
       "      <td>19400</td>\n",
       "      <td>2331</td>\n",
       "      <td>16069-697-20792</td>\n",
       "    </tr>\n",
       "    <tr>\n",
       "      <th>994014</th>\n",
       "      <td>6701</td>\n",
       "      <td>2023-07-14 21:11:00</td>\n",
       "      <td>22308</td>\n",
       "      <td>2331</td>\n",
       "      <td>16069-697-20792</td>\n",
       "    </tr>\n",
       "    <tr>\n",
       "      <th>...</th>\n",
       "      <td>...</td>\n",
       "      <td>...</td>\n",
       "      <td>...</td>\n",
       "      <td>...</td>\n",
       "      <td>...</td>\n",
       "    </tr>\n",
       "    <tr>\n",
       "      <th>999955</th>\n",
       "      <td>6701</td>\n",
       "      <td>2023-07-16 00:02:00</td>\n",
       "      <td>19383</td>\n",
       "      <td>2331</td>\n",
       "      <td>16069-697-20792</td>\n",
       "    </tr>\n",
       "    <tr>\n",
       "      <th>999981</th>\n",
       "      <td>6701</td>\n",
       "      <td>2023-07-15 11:45:00</td>\n",
       "      <td>22275</td>\n",
       "      <td>2331</td>\n",
       "      <td>16069-697-20792</td>\n",
       "    </tr>\n",
       "    <tr>\n",
       "      <th>999982</th>\n",
       "      <td>6701</td>\n",
       "      <td>2023-07-15 11:27:00</td>\n",
       "      <td>22272</td>\n",
       "      <td>2331</td>\n",
       "      <td>16069-697-20792</td>\n",
       "    </tr>\n",
       "    <tr>\n",
       "      <th>999983</th>\n",
       "      <td>6701</td>\n",
       "      <td>2023-07-15 10:58:00</td>\n",
       "      <td>22268</td>\n",
       "      <td>2331</td>\n",
       "      <td>16069-697-20792</td>\n",
       "    </tr>\n",
       "    <tr>\n",
       "      <th>999988</th>\n",
       "      <td>6701</td>\n",
       "      <td>2023-07-15 06:56:00</td>\n",
       "      <td>21819</td>\n",
       "      <td>2331</td>\n",
       "      <td>16069-697-20792</td>\n",
       "    </tr>\n",
       "  </tbody>\n",
       "</table>\n",
       "<p>73 rows × 5 columns</p>\n",
       "</div>"
      ],
      "text/plain": [
       "        WAGNUM            OPERDATE  ST_ID_DISL  ST_ID_DEST      TRAIN_INDEX\n",
       "993940    6701 2023-07-16 07:32:00       18862        2331  16069-697-20792\n",
       "993977    6701 2023-07-15 21:57:00       19396        2331  16069-697-20792\n",
       "993999    6701 2023-07-15 21:12:00       19400        2331  16069-697-20792\n",
       "994008    6701 2023-07-15 19:12:00       19400        2331  16069-697-20792\n",
       "994014    6701 2023-07-14 21:11:00       22308        2331  16069-697-20792\n",
       "...        ...                 ...         ...         ...              ...\n",
       "999955    6701 2023-07-16 00:02:00       19383        2331  16069-697-20792\n",
       "999981    6701 2023-07-15 11:45:00       22275        2331  16069-697-20792\n",
       "999982    6701 2023-07-15 11:27:00       22272        2331  16069-697-20792\n",
       "999983    6701 2023-07-15 10:58:00       22268        2331  16069-697-20792\n",
       "999988    6701 2023-07-15 06:56:00       21819        2331  16069-697-20792\n",
       "\n",
       "[73 rows x 5 columns]"
      ]
     },
     "execution_count": 24,
     "metadata": {},
     "output_type": "execute_result"
    }
   ],
   "source": [
    "big_data[big_data['TRAIN_INDEX'] == '16069-697-20792'] "
   ]
  },
  {
   "cell_type": "code",
   "execution_count": 26,
   "metadata": {},
   "outputs": [],
   "source": [
    "xls = pd.ExcelFile('disl_hackaton.xlsx')\n",
    "df1 = pd.read_excel(xls, 'Sheet 1')\n",
    "df2 = pd.read_excel(xls, 'Sheet 2')\n",
    "df3 = pd.read_excel(xls, 'Sheet 3')\n",
    "df4 = pd.read_excel(xls, 'Sheet 4')\n",
    "df5 = pd.read_excel(xls, 'Sheet 5')\n",
    "df6 = pd.read_excel(xls, 'Sheet 6')\n",
    "df7 = pd.read_excel(xls, 'Sheet 7')\n",
    "df8 = pd.read_excel(xls, 'Sheet 8')\n",
    "df9 = pd.read_excel(xls, 'Sheet 9')\n",
    "df10 = pd.read_excel(xls, 'Sheet 10')\n",
    "df11 = pd.read_excel(xls, 'Sheet 11')\n",
    "df12 = pd.read_excel(xls, 'Sheet 12')\n",
    "df13 = pd.read_excel(xls, 'Sheet 13')\n",
    "df14 = pd.read_excel(xls, 'Sheet 14')\n"
   ]
  },
  {
   "cell_type": "code",
   "execution_count": 41,
   "metadata": {},
   "outputs": [],
   "source": [
    "total_data = pd.concat([df1, df2, df3, df4, df5, df6, df7, df8, df9, df10, df11, df12, df13, df14], axis=0) "
   ]
  },
  {
   "cell_type": "code",
   "execution_count": 42,
   "metadata": {},
   "outputs": [
    {
     "data": {
      "text/plain": [
       "(13698173, 5)"
      ]
     },
     "execution_count": 42,
     "metadata": {},
     "output_type": "execute_result"
    }
   ],
   "source": [
    "total_data.shape"
   ]
  },
  {
   "cell_type": "code",
   "execution_count": 63,
   "metadata": {},
   "outputs": [],
   "source": [
    "total_data = total_data.sort_values(by=['OPERDATE'])"
   ]
  },
  {
   "cell_type": "code",
   "execution_count": 73,
   "metadata": {},
   "outputs": [],
   "source": [
    "small_total_data_12 = total_data[:1700000]"
   ]
  },
  {
   "cell_type": "code",
   "execution_count": 84,
   "metadata": {},
   "outputs": [
    {
     "data": {
      "text/html": [
       "<div>\n",
       "<style scoped>\n",
       "    .dataframe tbody tr th:only-of-type {\n",
       "        vertical-align: middle;\n",
       "    }\n",
       "\n",
       "    .dataframe tbody tr th {\n",
       "        vertical-align: top;\n",
       "    }\n",
       "\n",
       "    .dataframe thead th {\n",
       "        text-align: right;\n",
       "    }\n",
       "</style>\n",
       "<table border=\"1\" class=\"dataframe\">\n",
       "  <thead>\n",
       "    <tr style=\"text-align: right;\">\n",
       "      <th></th>\n",
       "      <th>WAGNUM</th>\n",
       "      <th>OPERDATE</th>\n",
       "      <th>ST_ID_DISL</th>\n",
       "      <th>ST_ID_DEST</th>\n",
       "      <th>TRAIN_INDEX</th>\n",
       "    </tr>\n",
       "  </thead>\n",
       "  <tbody>\n",
       "    <tr>\n",
       "      <th>989046</th>\n",
       "      <td>7829</td>\n",
       "      <td>1686547320</td>\n",
       "      <td>22828</td>\n",
       "      <td>17613</td>\n",
       "      <td>10686-008-17613</td>\n",
       "    </tr>\n",
       "    <tr>\n",
       "      <th>952707</th>\n",
       "      <td>5852</td>\n",
       "      <td>1686547320</td>\n",
       "      <td>5093</td>\n",
       "      <td>16069</td>\n",
       "      <td>1770-244-20713</td>\n",
       "    </tr>\n",
       "    <tr>\n",
       "      <th>22260</th>\n",
       "      <td>857</td>\n",
       "      <td>1686547320</td>\n",
       "      <td>21523</td>\n",
       "      <td>21512</td>\n",
       "      <td>20792-091-21523</td>\n",
       "    </tr>\n",
       "    <tr>\n",
       "      <th>796143</th>\n",
       "      <td>951</td>\n",
       "      <td>1686547320</td>\n",
       "      <td>5650</td>\n",
       "      <td>20715</td>\n",
       "      <td>5662-030-5641</td>\n",
       "    </tr>\n",
       "    <tr>\n",
       "      <th>305481</th>\n",
       "      <td>967</td>\n",
       "      <td>1686547320</td>\n",
       "      <td>1709</td>\n",
       "      <td>748</td>\n",
       "      <td>1770-510-686</td>\n",
       "    </tr>\n",
       "  </tbody>\n",
       "</table>\n",
       "</div>"
      ],
      "text/plain": [
       "        WAGNUM    OPERDATE  ST_ID_DISL  ST_ID_DEST      TRAIN_INDEX\n",
       "989046    7829  1686547320       22828       17613  10686-008-17613\n",
       "952707    5852  1686547320        5093       16069   1770-244-20713\n",
       "22260      857  1686547320       21523       21512  20792-091-21523\n",
       "796143     951  1686547320        5650       20715    5662-030-5641\n",
       "305481     967  1686547320        1709         748     1770-510-686"
      ]
     },
     "execution_count": 84,
     "metadata": {},
     "output_type": "execute_result"
    }
   ],
   "source": [
    "small_total_data_12.tail()"
   ]
  },
  {
   "cell_type": "code",
   "execution_count": 82,
   "metadata": {},
   "outputs": [],
   "source": [
    "small_total_data_12 = small_total_data_12.convert_dtypes()"
   ]
  },
  {
   "cell_type": "code",
   "execution_count": 79,
   "metadata": {},
   "outputs": [],
   "source": [
    "small_total_data_12['OPERDATE'] = small_total_data_12['OPERDATE'].apply(lambda x: x.timestamp())"
   ]
  },
  {
   "cell_type": "code",
   "execution_count": 86,
   "metadata": {},
   "outputs": [],
   "source": [
    "small_total_data_12.to_csv('small_total_data_12_plus_plus.csv', sep=';', index=False, header=True)"
   ]
  }
 ],
 "metadata": {
  "kernelspec": {
   "display_name": "Python 3",
   "language": "python",
   "name": "python3"
  },
  "language_info": {
   "codemirror_mode": {
    "name": "ipython",
    "version": 3
   },
   "file_extension": ".py",
   "mimetype": "text/x-python",
   "name": "python",
   "nbconvert_exporter": "python",
   "pygments_lexer": "ipython3",
   "version": "3.10.10"
  }
 },
 "nbformat": 4,
 "nbformat_minor": 2
}
